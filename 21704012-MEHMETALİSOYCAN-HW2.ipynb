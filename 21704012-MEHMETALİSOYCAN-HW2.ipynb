{
 "cells": [
  {
   "cell_type": "code",
   "execution_count": null,
   "metadata": {},
   "outputs": [
    {
     "name": "stdout",
     "output_type": "stream",
     "text": [
      "Welcome the program of which is useful for your small mathematical calculations.\n",
      "1st program is calculating the hypotenus of triangle.\n",
      "2nd program is running as a counter.\n",
      "3rd program is calculating the arithmetic mean of the 6 numbers that you want.\n"
     ]
    }
   ],
   "source": [
    "print(\"Welcome the program of which is useful for your small mathematical calculations.\")\n",
    "print(\"1st program is calculating the hypotenus of triangle.\")\n",
    "print(\"2nd program is running as a counter.\")\n",
    "print(\"3rd program is calculating the arithmetic mean of the 6 numbers that you want.\")\n",
    "a=float(input(\"In order to use the program, please enter one of 1,2 or 3 \",))\n",
    "if a==1:\n",
    "    print(\"You have selected the first program. You will be able to calculate the hypotenuse of the triangle.\")\n",
    "    print(\"Please enter the value of first and second edge measure\")\n",
    "    a=float(input(\"Enter the first value: \"))\n",
    "    b=float(input(\"Enter the second value: \"))\n",
    "    Hypotenuse=(a**2+b**2)**(0.5)\n",
    "    print(\"The Hypotenuse's measure is : \",Hypotenuse)\n",
    "elif a==2:\n",
    "    print(\"You have selected the second program. You will be able to use this program as a counter.\")\n",
    "    Number=float(input(\"Please enter the number that you want to count : \"))\n",
    "    i=1\n",
    "    while(i<=Number):\n",
    "        print(i)\n",
    "        i=i+1\n",
    "elif a==3:\n",
    "    print(\"You have selected the third program. You will be able to calculate the arithmetic mean of the 6 numbers that you want\")\n",
    "    number1=float(input(\"Enter the value for 1st number: \"))\n",
    "    number2=float(input(\"Enter the value for 2nd number: \"))\n",
    "    number3=float(input(\"Enter the value for 3d number: \"))\n",
    "    number4=float(input(\"Enter the value for 4th number: \"))\n",
    "    number5=float(input(\"Enter the value for 5th number: \"))\n",
    "    number6=float(input(\"Enter the value for 6th number: \"))\n",
    "    arithmetic_mean=(number1+number2+number3+number4+number5+number6)/6\n",
    "    print(\"The arithmetic mean of the 6 values you entered: \", arithmetic_mean)\n",
    "else:\n",
    "    print(\"Error. Please restart the program and enter any of the values 1,2 or 3.\")"
   ]
  },
  {
   "cell_type": "code",
   "execution_count": null,
   "metadata": {},
   "outputs": [],
   "source": []
  }
 ],
 "metadata": {
  "kernelspec": {
   "display_name": "Python 3",
   "language": "python",
   "name": "python3"
  },
  "language_info": {
   "codemirror_mode": {
    "name": "ipython",
    "version": 3
   },
   "file_extension": ".py",
   "mimetype": "text/x-python",
   "name": "python",
   "nbconvert_exporter": "python",
   "pygments_lexer": "ipython3",
   "version": "3.6.5"
  }
 },
 "nbformat": 4,
 "nbformat_minor": 2
}
