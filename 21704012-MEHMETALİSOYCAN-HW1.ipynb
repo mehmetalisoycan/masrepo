{
 "cells": [
  {
   "cell_type": "code",
   "execution_count": null,
   "metadata": {},
   "outputs": [
    {
     "name": "stdout",
     "output_type": "stream",
     "text": [
      "The Program of Calculating Second Order Function Roots\n",
      "-Your equation has to be second order function like this (ax**2+b*x+c)\n"
     ]
    }
   ],
   "source": [
    "print(\"The Program of Calculating Second Order Function Roots\")\n",
    "print(\"-Your equation has to be second order function like this (ax**2+b*x+c)\")\n",
    "a=int(input(\"Enter value for a:\"))\n",
    "b=int(input(\"Enter value for b:\"))\n",
    "c=int(input(\"Enter value for c:\"))\n",
    "Δ=b**2-4*a*c\n",
    "Root1 =  (-b + Δ ** 0.5)/ (2 * a)\n",
    "Root2 = (-b - Δ ** 0.5) / (2 * a)\n",
    "print('The first root of the equation: ', Root1 )\n",
    "print('The second root of the equation: ', Root2 )"
   ]
  },
  {
   "cell_type": "code",
   "execution_count": null,
   "metadata": {},
   "outputs": [],
   "source": []
  }
 ],
 "metadata": {
  "kernelspec": {
   "display_name": "Python 3",
   "language": "python",
   "name": "python3"
  },
  "language_info": {
   "codemirror_mode": {
    "name": "ipython",
    "version": 3
   },
   "file_extension": ".py",
   "mimetype": "text/x-python",
   "name": "python",
   "nbconvert_exporter": "python",
   "pygments_lexer": "ipython3",
   "version": "3.6.5"
  }
 },
 "nbformat": 4,
 "nbformat_minor": 2
}
